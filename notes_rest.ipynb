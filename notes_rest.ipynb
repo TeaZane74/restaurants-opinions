{
 "cells": [
  {
   "cell_type": "code",
   "execution_count": 2,
   "id": "19fa1c6c",
   "metadata": {},
   "outputs": [],
   "source": [
    "import pandas as pd \n",
    "import re\n",
    "\n",
    "import numpy as np\n",
    "import pandas as pd\n",
    "\n",
    "import matplotlib.pyplot as plt\n",
    "import seaborn as sns\n",
    "\n",
    "from sklearn.feature_extraction.text import CountVectorizer\n",
    "from sklearn.model_selection import train_test_split\n",
    "\n",
    "from sklearn.pipeline import Pipeline\n",
    "from sklearn.feature_extraction.text import TfidfVectorizer\n",
    "\n",
    "from sklearn.linear_model import LogisticRegression\n",
    "from sklearn.svm import LinearSVC\n",
    "\n",
    "from sklearn.metrics import classification_report, plot_confusion_matrix\n",
    "\n",
    "from bs4 import BeautifulSoup # if installed"
   ]
  },
  {
   "cell_type": "code",
   "execution_count": 3,
   "id": "84b1d67f",
   "metadata": {},
   "outputs": [],
   "source": [
    "import nltk"
   ]
  },
  {
   "cell_type": "code",
   "execution_count": 4,
   "id": "2d1cd905",
   "metadata": {},
   "outputs": [],
   "source": [
    "path = ''"
   ]
  },
  {
   "cell_type": "code",
   "execution_count": 5,
   "id": "0e3c5e10",
   "metadata": {},
   "outputs": [],
   "source": [
    "df = pd.read_csv(f\"{path}bdd_avis_restaurant.csv\",sep=\"|\")"
   ]
  },
  {
   "cell_type": "markdown",
   "id": "f34a9b16",
   "metadata": {},
   "source": [
    "# Tri des données non françaises"
   ]
  },
  {
   "cell_type": "code",
   "execution_count": 6,
   "id": "ee5b981c",
   "metadata": {},
   "outputs": [],
   "source": [
    "keywords = [\"and\",\"not\",\"also\",\"maybe\",\"why\",\"where\",\"time\",\n",
    "            \"work\",\"week\",\"year\",\"way\",\"good\",\"new\",\"first\",\"last\",\"great\",\"little\",\n",
    "           \"own\",\"other\",\"old\",\"right\",\"high\",\"big\",\"small\",\"early\",\"was\",\n",
    "            \"lunch\",\"dinner\",\"big\",\"great\",\"delicious\",\"disgusting\",\"eat\"]"
   ]
  },
  {
   "cell_type": "code",
   "execution_count": 7,
   "id": "4623218e",
   "metadata": {},
   "outputs": [],
   "source": [
    "numero_drop = []\n",
    "\n",
    "for i in range(len(df[\"avis\"])):\n",
    "    liste = df[\"avis\"][i].split()\n",
    "    anglais = 0\n",
    "    j=0\n",
    "    \n",
    "    for j in keywords : \n",
    "        if any(j==s for s in liste):\n",
    "            anglais = 1\n",
    "    if anglais ==1:\n",
    "        numero_drop.append(i)\n",
    "    "
   ]
  },
  {
   "cell_type": "code",
   "execution_count": 8,
   "id": "1b58426a",
   "metadata": {},
   "outputs": [],
   "source": [
    "df = df.drop(numero_drop)"
   ]
  },
  {
   "cell_type": "code",
   "execution_count": 9,
   "id": "b794c711",
   "metadata": {},
   "outputs": [],
   "source": [
    "df = df[[\"nom\",\"prix\",\"etoile\",\"avis\"]]\n",
    "df = df.sample(frac=0.8, random_state = 25)\n",
    "df = df.drop(df_train.index)"
   ]
  },
  {
   "cell_type": "markdown",
   "id": "042cde49",
   "metadata": {},
   "source": [
    "# Présentation des données"
   ]
  },
  {
   "cell_type": "code",
   "execution_count": 12,
   "id": "12fa3d69",
   "metadata": {},
   "outputs": [
    {
     "data": {
      "text/html": [
       "<div>\n",
       "<style scoped>\n",
       "    .dataframe tbody tr th:only-of-type {\n",
       "        vertical-align: middle;\n",
       "    }\n",
       "\n",
       "    .dataframe tbody tr th {\n",
       "        vertical-align: top;\n",
       "    }\n",
       "\n",
       "    .dataframe thead th {\n",
       "        text-align: right;\n",
       "    }\n",
       "</style>\n",
       "<table border=\"1\" class=\"dataframe\">\n",
       "  <thead>\n",
       "    <tr style=\"text-align: right;\">\n",
       "      <th></th>\n",
       "      <th>nom</th>\n",
       "      <th>prix</th>\n",
       "      <th>etoile</th>\n",
       "      <th>avis</th>\n",
       "    </tr>\n",
       "  </thead>\n",
       "  <tbody>\n",
       "    <tr>\n",
       "      <th>count</th>\n",
       "      <td>3166</td>\n",
       "      <td>3166</td>\n",
       "      <td>3166</td>\n",
       "      <td>3166</td>\n",
       "    </tr>\n",
       "    <tr>\n",
       "      <th>unique</th>\n",
       "      <td>254</td>\n",
       "      <td>5</td>\n",
       "      <td>6</td>\n",
       "      <td>2872</td>\n",
       "    </tr>\n",
       "    <tr>\n",
       "      <th>top</th>\n",
       "      <td>L'Ouest</td>\n",
       "      <td>2</td>\n",
       "      <td>4</td>\n",
       "      <td>En savoir plus</td>\n",
       "    </tr>\n",
       "    <tr>\n",
       "      <th>freq</th>\n",
       "      <td>91</td>\n",
       "      <td>1896</td>\n",
       "      <td>1159</td>\n",
       "      <td>141</td>\n",
       "    </tr>\n",
       "  </tbody>\n",
       "</table>\n",
       "</div>"
      ],
      "text/plain": [
       "            nom  prix etoile            avis\n",
       "count      3166  3166   3166            3166\n",
       "unique      254     5      6            2872\n",
       "top     L'Ouest     2      4  En savoir plus\n",
       "freq         91  1896   1159             141"
      ]
     },
     "execution_count": 12,
     "metadata": {},
     "output_type": "execute_result"
    }
   ],
   "source": [
    "df_train.describe()"
   ]
  },
  {
   "cell_type": "code",
   "execution_count": 10,
   "id": "1f6761ac",
   "metadata": {},
   "outputs": [
    {
     "data": {
      "text/plain": [
       "4         1159\n",
       "5          947\n",
       "3          632\n",
       "2          292\n",
       "1          135\n",
       "etoile       1\n",
       "Name: etoile, dtype: int64"
      ]
     },
     "execution_count": 10,
     "metadata": {},
     "output_type": "execute_result"
    }
   ],
   "source": [
    "df_train['etoile'].value_counts()"
   ]
  },
  {
   "cell_type": "code",
   "execution_count": 21,
   "id": "0c4a4523",
   "metadata": {},
   "outputs": [],
   "source": [
    "X_train = df_train['avis']\n",
    "y_train = df_train['etoile']"
   ]
  },
  {
   "cell_type": "code",
   "execution_count": 22,
   "id": "3ff5fefd",
   "metadata": {},
   "outputs": [
    {
     "data": {
      "text/plain": [
       "TfidfVectorizer()"
      ]
     },
     "execution_count": 22,
     "metadata": {},
     "output_type": "execute_result"
    }
   ],
   "source": [
    "vectorizer = TfidfVectorizer()\n",
    "\n",
    "vectorizer.fit(X_train)"
   ]
  },
  {
   "cell_type": "code",
   "execution_count": 23,
   "id": "5480431b",
   "metadata": {},
   "outputs": [
    {
     "data": {
      "text/plain": [
       "array(['00', '00h30', '01', ..., 'îlot', 'ôter', '王老吉'], dtype=object)"
      ]
     },
     "execution_count": 23,
     "metadata": {},
     "output_type": "execute_result"
    }
   ],
   "source": [
    "vectorizer.get_feature_names_out()"
   ]
  },
  {
   "cell_type": "code",
   "execution_count": 24,
   "id": "27661324",
   "metadata": {},
   "outputs": [],
   "source": [
    "X_test = df_test['avis']\n",
    "y_test = df_test['etoile']"
   ]
  },
  {
   "cell_type": "code",
   "execution_count": 25,
   "id": "1d708c8d",
   "metadata": {},
   "outputs": [
    {
     "data": {
      "text/plain": [
       "(4, 15628)"
      ]
     },
     "execution_count": 25,
     "metadata": {},
     "output_type": "execute_result"
    }
   ],
   "source": [
    "x_tmp = vectorizer.transform(df_train)\n",
    "x_tmp.shape"
   ]
  },
  {
   "cell_type": "code",
   "execution_count": 26,
   "id": "7488f011",
   "metadata": {},
   "outputs": [],
   "source": [
    "tfidf = TfidfVectorizer()\n",
    "\n",
    "tfidf.fit(X_train)\n",
    "X_tfidf = tfidf.transform(X_train)\n",
    "X_tfidf.shape\n",
    "x_test_idf = tfidf.transform(X_test)"
   ]
  },
  {
   "cell_type": "code",
   "execution_count": 27,
   "id": "ab1cb2ab",
   "metadata": {},
   "outputs": [
    {
     "data": {
      "text/plain": [
       "LinearSVC(class_weight='balanced', max_iter=10000, tol=1e-06)"
      ]
     },
     "execution_count": 27,
     "metadata": {},
     "output_type": "execute_result"
    }
   ],
   "source": [
    "svc = LinearSVC(tol=1e-6,loss=\"squared_hinge\",fit_intercept=True,multi_class=\"ovr\",class_weight=\"balanced\",max_iter=10000)\n",
    "\n",
    "svc.fit(X_tfidf, y_train)"
   ]
  },
  {
   "cell_type": "code",
   "execution_count": 28,
   "id": "d8253b76",
   "metadata": {},
   "outputs": [
    {
     "data": {
      "text/plain": [
       "(792, 15628)"
      ]
     },
     "execution_count": 28,
     "metadata": {},
     "output_type": "execute_result"
    }
   ],
   "source": [
    "xtest_tmp = tfidf.transform(X_test)\n",
    "xtest_tmp.shape"
   ]
  },
  {
   "cell_type": "code",
   "execution_count": 29,
   "id": "fbc1b7fd",
   "metadata": {},
   "outputs": [],
   "source": [
    "y_predtest = svc.predict(x_test_idf)"
   ]
  },
  {
   "cell_type": "code",
   "execution_count": 30,
   "id": "0e03cdee",
   "metadata": {},
   "outputs": [],
   "source": [
    "y_predtest2 = svc.predict(xtest_tmp)"
   ]
  },
  {
   "cell_type": "code",
   "execution_count": 31,
   "id": "e2b62de2",
   "metadata": {},
   "outputs": [
    {
     "name": "stdout",
     "output_type": "stream",
     "text": [
      "              precision    recall  f1-score   support\n",
      "\n",
      "           1     0.4400    0.2619    0.3284        42\n",
      "           2     0.3824    0.3662    0.3741        71\n",
      "           3     0.4241    0.4379    0.4309       153\n",
      "           4     0.4933    0.5193    0.5060       285\n",
      "           5     0.5690    0.5690    0.5690       239\n",
      "      etoile     1.0000    1.0000    1.0000         2\n",
      "\n",
      "    accuracy                         0.4924       792\n",
      "   macro avg     0.5515    0.5257    0.5347       792\n",
      "weighted avg     0.4913    0.4924    0.4905       792\n",
      "\n"
     ]
    }
   ],
   "source": [
    "print(classification_report(y_test, y_predtest, digits=4 ))"
   ]
  }
 ],
 "metadata": {
  "kernelspec": {
   "display_name": "Python 3",
   "language": "python",
   "name": "python3"
  },
  "language_info": {
   "codemirror_mode": {
    "name": "ipython",
    "version": 3
   },
   "file_extension": ".py",
   "mimetype": "text/x-python",
   "name": "python",
   "nbconvert_exporter": "python",
   "pygments_lexer": "ipython3",
   "version": "3.9.4"
  }
 },
 "nbformat": 4,
 "nbformat_minor": 5
}
